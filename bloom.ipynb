{
 "cells": [
  {
   "cell_type": "markdown",
   "id": "7ea30360",
   "metadata": {},
   "source": [
    "### Bloom Filter "
   ]
  },
  {
   "cell_type": "code",
   "execution_count": null,
   "id": "0ae7bbc5",
   "metadata": {},
   "outputs": [
    {
     "name": "stdout",
     "output_type": "stream",
     "text": [
      "['Denise Vasquez', 'Valerie Pittman', 'Melissa Hill', 'Ashley Carter', 'Jennifer Moody', 'David Martinez', 'Darren Gonzalez', 'Danielle Fernandez', 'Courtney Bryant', 'Jeffrey Wise', 'Kelly Brooks', 'Elizabeth Cook', 'Sarah Parker', 'Jesse Barnes', 'Edward Singh', 'Miss Molly Woodward', 'Mr. John Lopez', 'John Morales', 'Mrs. Gina Salinas', 'Jeffery Lee', 'Brianna Perez', 'Rebecca Johnson', 'Kelly Mccall', 'Dwayne Tucker', 'Mr. Eric Sandoval PhD', 'Andrea Hardin', 'Judith Silva', 'Richard Payne', 'Sarah Clark DVM', 'Thomas Walker']\n",
      "Number of list items 30\n",
      "========== Bloom Filter Example ==========\n",
      "+ Capacity: 1000 item(s)\n",
      "+ Number of inserted items: 30\n",
      "+ Filter size: 28756 bit(s)\n",
      "+ False Positive probability: 1e-06\n",
      "+ Number of hash functions: 20\n",
      "\n",
      "Check the name in the Customer list, or enter 'END': Thomas Walker\n",
      "\"Thomas Walker\" is PROBABLY a Customer. Prob: 0.99999903\n"
     ]
    }
   ],
   "source": [
    "from bloomfilter import BloomFilter, SizeGrowthRate\n",
    "\n",
    "\n",
    "# opening the file in read mode\n",
    "my_file = open(\"List.txt\", \"r\", encoding='cp1252')\n",
    "\n",
    "# reading the file\n",
    "data = my_file.read()\n",
    "\n",
    "# replacing end splitting the text\n",
    "# when newline ('\\n') is seen.\n",
    "# Converting a text file into a list \n",
    "clients = data.split(\"\\n\")\n",
    "print(clients)\n",
    "print(\"Number of list items\", len(clients))\n",
    "my_file.close()\n",
    "\n",
    "\n",
    "def bloom_filter_example():\n",
    "    print(\"========== Bloom Filter Example ==========\")\n",
    "    bloom_filter = BloomFilter(size=1000, fp_prob=1e-6)\n",
    "    # Insert items into Bloom filter\n",
    "    for client in clients:\n",
    "        bloom_filter.add(client)\n",
    "\n",
    "    # Print several statistics of the filter\n",
    "    print(\n",
    "        \"+ Capacity: {} item(s)\".format(bloom_filter.size),\n",
    "        \"+ Number of inserted items: {}\".format(len(bloom_filter)),\n",
    "        \"+ Filter size: {} bit(s)\".format(bloom_filter.filter_size),\n",
    "        \"+ False Positive probability: {}\".format(bloom_filter.fp_prob),\n",
    "        \"+ Number of hash functions: {}\".format(bloom_filter.num_hashes),\n",
    "        sep=\"\\n\",\n",
    "        end=\"\\n\\n\",\n",
    "    )\n",
    "    ## Probability of it being correct \n",
    "    ## 1 - probab of it being false positive\n",
    "    prob = (1.0 - (abs((len(bloom_filter) / float(bloom_filter.size)) - 1.0) * bloom_filter.fp_prob))\n",
    "\n",
    "    # Check whether a client is in the filter or not   \n",
    "    guess = ''\n",
    "    while guess!='END END':\n",
    "        guess = str(input(\"Check the name in the Customer list, or enter 'END': \"))\n",
    "        if guess!='END END':\n",
    "            if guess in bloom_filter:\n",
    "                print (f'\"{guess}\" is PROBABLY a Customer. Prob:', prob)\n",
    "            else:\n",
    "                print (f'\"{guess}\" is NOT a Customer.')\n",
    "\n",
    "\n",
    "if __name__ == \"__main__\":\n",
    "    bloom_filter_example()"
   ]
  },
  {
   "cell_type": "code",
   "execution_count": null,
   "id": "ded2aed9",
   "metadata": {},
   "outputs": [],
   "source": []
  }
 ],
 "metadata": {
  "kernelspec": {
   "display_name": "Python 3 (ipykernel)",
   "language": "python",
   "name": "python3"
  },
  "language_info": {
   "codemirror_mode": {
    "name": "ipython",
    "version": 3
   },
   "file_extension": ".py",
   "mimetype": "text/x-python",
   "name": "python",
   "nbconvert_exporter": "python",
   "pygments_lexer": "ipython3",
   "version": "3.9.7"
  }
 },
 "nbformat": 4,
 "nbformat_minor": 5
}
